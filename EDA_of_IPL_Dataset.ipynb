{
  "nbformat": 4,
  "nbformat_minor": 0,
  "metadata": {
    "colab": {
      "name": "EDA of IPL Dataset.ipynb",
      "provenance": [],
      "authorship_tag": "ABX9TyN+CpBz3pP/i7tjGjI5gZ7A",
      "include_colab_link": true
    },
    "kernelspec": {
      "name": "python3",
      "display_name": "Python 3"
    },
    "language_info": {
      "name": "python"
    }
  },
  "cells": [
    {
      "cell_type": "markdown",
      "metadata": {
        "id": "view-in-github",
        "colab_type": "text"
      },
      "source": [
        "<a href=\"https://colab.research.google.com/github/winee165/EDA-of-IPL-Dataset/blob/main/EDA_of_IPL_Dataset.ipynb\" target=\"_parent\"><img src=\"https://colab.research.google.com/assets/colab-badge.svg\" alt=\"Open In Colab\"/></a>"
      ]
    },
    {
      "cell_type": "code",
      "metadata": {
        "id": "SPKkM-CZ3Tep"
      },
      "source": [
        "import numpy as np\n",
        "import pandas as pd\n",
        "import matplotlib.pyplot as plt\n",
        "import seaborn as sns\n",
        "%matplotlib inline\n"
      ],
      "execution_count": 4,
      "outputs": []
    },
    {
      "cell_type": "code",
      "metadata": {
        "colab": {
          "base_uri": "https://localhost:8080/",
          "height": 442
        },
        "id": "Pbn8ZUrY35-C",
        "outputId": "42294b13-31fc-4a6a-f1fc-708f58067735"
      },
      "source": [
        "data=pd.read_csv(\"/matches.csv\")\n",
        "data.head()"
      ],
      "execution_count": 6,
      "outputs": [
        {
          "output_type": "execute_result",
          "data": {
            "text/html": [
              "<div>\n",
              "<style scoped>\n",
              "    .dataframe tbody tr th:only-of-type {\n",
              "        vertical-align: middle;\n",
              "    }\n",
              "\n",
              "    .dataframe tbody tr th {\n",
              "        vertical-align: top;\n",
              "    }\n",
              "\n",
              "    .dataframe thead th {\n",
              "        text-align: right;\n",
              "    }\n",
              "</style>\n",
              "<table border=\"1\" class=\"dataframe\">\n",
              "  <thead>\n",
              "    <tr style=\"text-align: right;\">\n",
              "      <th></th>\n",
              "      <th>id</th>\n",
              "      <th>Season</th>\n",
              "      <th>city</th>\n",
              "      <th>date</th>\n",
              "      <th>team1</th>\n",
              "      <th>team2</th>\n",
              "      <th>toss_winner</th>\n",
              "      <th>toss_decision</th>\n",
              "      <th>result</th>\n",
              "      <th>dl_applied</th>\n",
              "      <th>winner</th>\n",
              "      <th>win_by_runs</th>\n",
              "      <th>win_by_wickets</th>\n",
              "      <th>player_of_match</th>\n",
              "      <th>venue</th>\n",
              "      <th>umpire1</th>\n",
              "      <th>umpire2</th>\n",
              "      <th>umpire3</th>\n",
              "    </tr>\n",
              "  </thead>\n",
              "  <tbody>\n",
              "    <tr>\n",
              "      <th>0</th>\n",
              "      <td>1</td>\n",
              "      <td>IPL-2017</td>\n",
              "      <td>Hyderabad</td>\n",
              "      <td>05-04-2017</td>\n",
              "      <td>Sunrisers Hyderabad</td>\n",
              "      <td>Royal Challengers Bangalore</td>\n",
              "      <td>Royal Challengers Bangalore</td>\n",
              "      <td>field</td>\n",
              "      <td>normal</td>\n",
              "      <td>0</td>\n",
              "      <td>Sunrisers Hyderabad</td>\n",
              "      <td>35</td>\n",
              "      <td>0</td>\n",
              "      <td>Yuvraj Singh</td>\n",
              "      <td>Rajiv Gandhi International Stadium, Uppal</td>\n",
              "      <td>AY Dandekar</td>\n",
              "      <td>NJ Llong</td>\n",
              "      <td>NaN</td>\n",
              "    </tr>\n",
              "    <tr>\n",
              "      <th>1</th>\n",
              "      <td>2</td>\n",
              "      <td>IPL-2017</td>\n",
              "      <td>Pune</td>\n",
              "      <td>06-04-2017</td>\n",
              "      <td>Mumbai Indians</td>\n",
              "      <td>Rising Pune Supergiant</td>\n",
              "      <td>Rising Pune Supergiant</td>\n",
              "      <td>field</td>\n",
              "      <td>normal</td>\n",
              "      <td>0</td>\n",
              "      <td>Rising Pune Supergiant</td>\n",
              "      <td>0</td>\n",
              "      <td>7</td>\n",
              "      <td>SPD Smith</td>\n",
              "      <td>Maharashtra Cricket Association Stadium</td>\n",
              "      <td>A Nand Kishore</td>\n",
              "      <td>S Ravi</td>\n",
              "      <td>NaN</td>\n",
              "    </tr>\n",
              "    <tr>\n",
              "      <th>2</th>\n",
              "      <td>3</td>\n",
              "      <td>IPL-2017</td>\n",
              "      <td>Rajkot</td>\n",
              "      <td>07-04-2017</td>\n",
              "      <td>Gujarat Lions</td>\n",
              "      <td>Kolkata Knight Riders</td>\n",
              "      <td>Kolkata Knight Riders</td>\n",
              "      <td>field</td>\n",
              "      <td>normal</td>\n",
              "      <td>0</td>\n",
              "      <td>Kolkata Knight Riders</td>\n",
              "      <td>0</td>\n",
              "      <td>10</td>\n",
              "      <td>CA Lynn</td>\n",
              "      <td>Saurashtra Cricket Association Stadium</td>\n",
              "      <td>Nitin Menon</td>\n",
              "      <td>CK Nandan</td>\n",
              "      <td>NaN</td>\n",
              "    </tr>\n",
              "    <tr>\n",
              "      <th>3</th>\n",
              "      <td>4</td>\n",
              "      <td>IPL-2017</td>\n",
              "      <td>Indore</td>\n",
              "      <td>08-04-2017</td>\n",
              "      <td>Rising Pune Supergiant</td>\n",
              "      <td>Kings XI Punjab</td>\n",
              "      <td>Kings XI Punjab</td>\n",
              "      <td>field</td>\n",
              "      <td>normal</td>\n",
              "      <td>0</td>\n",
              "      <td>Kings XI Punjab</td>\n",
              "      <td>0</td>\n",
              "      <td>6</td>\n",
              "      <td>GJ Maxwell</td>\n",
              "      <td>Holkar Cricket Stadium</td>\n",
              "      <td>AK Chaudhary</td>\n",
              "      <td>C Shamshuddin</td>\n",
              "      <td>NaN</td>\n",
              "    </tr>\n",
              "    <tr>\n",
              "      <th>4</th>\n",
              "      <td>5</td>\n",
              "      <td>IPL-2017</td>\n",
              "      <td>Bangalore</td>\n",
              "      <td>08-04-2017</td>\n",
              "      <td>Royal Challengers Bangalore</td>\n",
              "      <td>Delhi Daredevils</td>\n",
              "      <td>Royal Challengers Bangalore</td>\n",
              "      <td>bat</td>\n",
              "      <td>normal</td>\n",
              "      <td>0</td>\n",
              "      <td>Royal Challengers Bangalore</td>\n",
              "      <td>15</td>\n",
              "      <td>0</td>\n",
              "      <td>KM Jadhav</td>\n",
              "      <td>M Chinnaswamy Stadium</td>\n",
              "      <td>NaN</td>\n",
              "      <td>NaN</td>\n",
              "      <td>NaN</td>\n",
              "    </tr>\n",
              "  </tbody>\n",
              "</table>\n",
              "</div>"
            ],
            "text/plain": [
              "   id    Season       city  ...         umpire1        umpire2 umpire3\n",
              "0   1  IPL-2017  Hyderabad  ...     AY Dandekar       NJ Llong     NaN\n",
              "1   2  IPL-2017       Pune  ...  A Nand Kishore         S Ravi     NaN\n",
              "2   3  IPL-2017     Rajkot  ...     Nitin Menon      CK Nandan     NaN\n",
              "3   4  IPL-2017     Indore  ...    AK Chaudhary  C Shamshuddin     NaN\n",
              "4   5  IPL-2017  Bangalore  ...             NaN            NaN     NaN\n",
              "\n",
              "[5 rows x 18 columns]"
            ]
          },
          "metadata": {
            "tags": []
          },
          "execution_count": 6
        }
      ]
    },
    {
      "cell_type": "markdown",
      "metadata": {
        "id": "y_j1sjtw4XDh"
      },
      "source": [
        "Size of Dataset\n"
      ]
    },
    {
      "cell_type": "code",
      "metadata": {
        "colab": {
          "base_uri": "https://localhost:8080/"
        },
        "id": "UN5NanPN4Vl_",
        "outputId": "9b65a4fd-7a27-4ffb-edcd-9ab3138fe275"
      },
      "source": [
        "data.shape"
      ],
      "execution_count": 7,
      "outputs": [
        {
          "output_type": "execute_result",
          "data": {
            "text/plain": [
              "(756, 18)"
            ]
          },
          "metadata": {
            "tags": []
          },
          "execution_count": 7
        }
      ]
    },
    {
      "cell_type": "code",
      "metadata": {
        "colab": {
          "base_uri": "https://localhost:8080/"
        },
        "id": "xSchGmzr4lzf",
        "outputId": "5aceb478-3237-46e9-d148-631b4259dc83"
      },
      "source": [
        "data.info"
      ],
      "execution_count": 8,
      "outputs": [
        {
          "output_type": "execute_result",
          "data": {
            "text/plain": [
              "<bound method DataFrame.info of         id    Season  ...         umpire2                  umpire3\n",
              "0        1  IPL-2017  ...        NJ Llong                      NaN\n",
              "1        2  IPL-2017  ...          S Ravi                      NaN\n",
              "2        3  IPL-2017  ...       CK Nandan                      NaN\n",
              "3        4  IPL-2017  ...   C Shamshuddin                      NaN\n",
              "4        5  IPL-2017  ...             NaN                      NaN\n",
              "..     ...       ...  ...             ...                      ...\n",
              "751  11347  IPL-2019  ...        O Nandan                   S Ravi\n",
              "752  11412  IPL-2019  ...     Nitin Menon                Ian Gould\n",
              "753  11413  IPL-2019  ...             NaN                      NaN\n",
              "754  11414  IPL-2019  ...  Bruce Oxenford  Chettithody Shamshuddin\n",
              "755  11415  IPL-2019  ...       Ian Gould              Nigel Llong\n",
              "\n",
              "[756 rows x 18 columns]>"
            ]
          },
          "metadata": {
            "tags": []
          },
          "execution_count": 8
        }
      ]
    },
    {
      "cell_type": "markdown",
      "metadata": {
        "id": "tTdUMMCC4wjw"
      },
      "source": [
        "All Columns Name"
      ]
    },
    {
      "cell_type": "code",
      "metadata": {
        "colab": {
          "base_uri": "https://localhost:8080/"
        },
        "id": "u_GbJW0N4p7N",
        "outputId": "4d55f2ee-f137-446a-f591-87912ddeee8b"
      },
      "source": [
        "data.columns"
      ],
      "execution_count": 9,
      "outputs": [
        {
          "output_type": "execute_result",
          "data": {
            "text/plain": [
              "Index(['id', 'Season', 'city', 'date', 'team1', 'team2', 'toss_winner',\n",
              "       'toss_decision', 'result', 'dl_applied', 'winner', 'win_by_runs',\n",
              "       'win_by_wickets', 'player_of_match', 'venue', 'umpire1', 'umpire2',\n",
              "       'umpire3'],\n",
              "      dtype='object')"
            ]
          },
          "metadata": {
            "tags": []
          },
          "execution_count": 9
        }
      ]
    },
    {
      "cell_type": "markdown",
      "metadata": {
        "id": "zAGS7Qfy45p3"
      },
      "source": [
        "Calculating the Null Values"
      ]
    },
    {
      "cell_type": "code",
      "metadata": {
        "colab": {
          "base_uri": "https://localhost:8080/"
        },
        "id": "u1IS5aY340GV",
        "outputId": "bdbe6a5e-11a7-4801-ecc1-0c80c5d3613f"
      },
      "source": [
        "data.isna().any()"
      ],
      "execution_count": 10,
      "outputs": [
        {
          "output_type": "execute_result",
          "data": {
            "text/plain": [
              "id                 False\n",
              "Season             False\n",
              "city                True\n",
              "date               False\n",
              "team1              False\n",
              "team2              False\n",
              "toss_winner        False\n",
              "toss_decision      False\n",
              "result             False\n",
              "dl_applied         False\n",
              "winner              True\n",
              "win_by_runs        False\n",
              "win_by_wickets     False\n",
              "player_of_match     True\n",
              "venue              False\n",
              "umpire1             True\n",
              "umpire2             True\n",
              "umpire3             True\n",
              "dtype: bool"
            ]
          },
          "metadata": {
            "tags": []
          },
          "execution_count": 10
        }
      ]
    },
    {
      "cell_type": "code",
      "metadata": {
        "colab": {
          "base_uri": "https://localhost:8080/",
          "height": 295
        },
        "id": "5OqW5cKq5B4O",
        "outputId": "10d55ff8-486f-4f73-e9f4-172a7104d809"
      },
      "source": [
        "data.describe()"
      ],
      "execution_count": 11,
      "outputs": [
        {
          "output_type": "execute_result",
          "data": {
            "text/html": [
              "<div>\n",
              "<style scoped>\n",
              "    .dataframe tbody tr th:only-of-type {\n",
              "        vertical-align: middle;\n",
              "    }\n",
              "\n",
              "    .dataframe tbody tr th {\n",
              "        vertical-align: top;\n",
              "    }\n",
              "\n",
              "    .dataframe thead th {\n",
              "        text-align: right;\n",
              "    }\n",
              "</style>\n",
              "<table border=\"1\" class=\"dataframe\">\n",
              "  <thead>\n",
              "    <tr style=\"text-align: right;\">\n",
              "      <th></th>\n",
              "      <th>id</th>\n",
              "      <th>dl_applied</th>\n",
              "      <th>win_by_runs</th>\n",
              "      <th>win_by_wickets</th>\n",
              "    </tr>\n",
              "  </thead>\n",
              "  <tbody>\n",
              "    <tr>\n",
              "      <th>count</th>\n",
              "      <td>756.000000</td>\n",
              "      <td>756.000000</td>\n",
              "      <td>756.000000</td>\n",
              "      <td>756.000000</td>\n",
              "    </tr>\n",
              "    <tr>\n",
              "      <th>mean</th>\n",
              "      <td>1792.178571</td>\n",
              "      <td>0.025132</td>\n",
              "      <td>13.283069</td>\n",
              "      <td>3.350529</td>\n",
              "    </tr>\n",
              "    <tr>\n",
              "      <th>std</th>\n",
              "      <td>3464.478148</td>\n",
              "      <td>0.156630</td>\n",
              "      <td>23.471144</td>\n",
              "      <td>3.387963</td>\n",
              "    </tr>\n",
              "    <tr>\n",
              "      <th>min</th>\n",
              "      <td>1.000000</td>\n",
              "      <td>0.000000</td>\n",
              "      <td>0.000000</td>\n",
              "      <td>0.000000</td>\n",
              "    </tr>\n",
              "    <tr>\n",
              "      <th>25%</th>\n",
              "      <td>189.750000</td>\n",
              "      <td>0.000000</td>\n",
              "      <td>0.000000</td>\n",
              "      <td>0.000000</td>\n",
              "    </tr>\n",
              "    <tr>\n",
              "      <th>50%</th>\n",
              "      <td>378.500000</td>\n",
              "      <td>0.000000</td>\n",
              "      <td>0.000000</td>\n",
              "      <td>4.000000</td>\n",
              "    </tr>\n",
              "    <tr>\n",
              "      <th>75%</th>\n",
              "      <td>567.250000</td>\n",
              "      <td>0.000000</td>\n",
              "      <td>19.000000</td>\n",
              "      <td>6.000000</td>\n",
              "    </tr>\n",
              "    <tr>\n",
              "      <th>max</th>\n",
              "      <td>11415.000000</td>\n",
              "      <td>1.000000</td>\n",
              "      <td>146.000000</td>\n",
              "      <td>10.000000</td>\n",
              "    </tr>\n",
              "  </tbody>\n",
              "</table>\n",
              "</div>"
            ],
            "text/plain": [
              "                 id  dl_applied  win_by_runs  win_by_wickets\n",
              "count    756.000000  756.000000   756.000000      756.000000\n",
              "mean    1792.178571    0.025132    13.283069        3.350529\n",
              "std     3464.478148    0.156630    23.471144        3.387963\n",
              "min        1.000000    0.000000     0.000000        0.000000\n",
              "25%      189.750000    0.000000     0.000000        0.000000\n",
              "50%      378.500000    0.000000     0.000000        4.000000\n",
              "75%      567.250000    0.000000    19.000000        6.000000\n",
              "max    11415.000000    1.000000   146.000000       10.000000"
            ]
          },
          "metadata": {
            "tags": []
          },
          "execution_count": 11
        }
      ]
    },
    {
      "cell_type": "code",
      "metadata": {
        "colab": {
          "base_uri": "https://localhost:8080/"
        },
        "id": "4niz55FF5Pco",
        "outputId": "f65556c9-381d-4b58-9039-e28f7d5579f5"
      },
      "source": [
        "data['id'].count()"
      ],
      "execution_count": 12,
      "outputs": [
        {
          "output_type": "execute_result",
          "data": {
            "text/plain": [
              "756"
            ]
          },
          "metadata": {
            "tags": []
          },
          "execution_count": 12
        }
      ]
    },
    {
      "cell_type": "code",
      "metadata": {
        "colab": {
          "base_uri": "https://localhost:8080/"
        },
        "id": "tM18i7yN7kX5",
        "outputId": "d33d400a-f4f0-4bb9-cf75-561593d6c58a"
      },
      "source": [
        "data['Season'].unique()"
      ],
      "execution_count": 13,
      "outputs": [
        {
          "output_type": "execute_result",
          "data": {
            "text/plain": [
              "array(['IPL-2017', 'IPL-2008', 'IPL-2009', 'IPL-2010', 'IPL-2011',\n",
              "       'IPL-2012', 'IPL-2013', 'IPL-2014', 'IPL-2015', 'IPL-2016',\n",
              "       'IPL-2018', 'IPL-2019'], dtype=object)"
            ]
          },
          "metadata": {
            "tags": []
          },
          "execution_count": 13
        }
      ]
    },
    {
      "cell_type": "markdown",
      "metadata": {
        "id": "VbFIjDz_7s8W"
      },
      "source": [
        "## The IPL team which won by max runs"
      ]
    },
    {
      "cell_type": "code",
      "metadata": {
        "colab": {
          "base_uri": "https://localhost:8080/"
        },
        "id": "vegC1fv56Uuw",
        "outputId": "a6380cc3-43a7-4fe4-d02c-64a0579c920d"
      },
      "source": [
        "data.iloc[data['win_by_runs'].idxmax()]"
      ],
      "execution_count": 14,
      "outputs": [
        {
          "output_type": "execute_result",
          "data": {
            "text/plain": [
              "id                               44\n",
              "Season                     IPL-2017\n",
              "city                          Delhi\n",
              "date                     06-05-2017\n",
              "team1                Mumbai Indians\n",
              "team2              Delhi Daredevils\n",
              "toss_winner        Delhi Daredevils\n",
              "toss_decision                 field\n",
              "result                       normal\n",
              "dl_applied                        0\n",
              "winner               Mumbai Indians\n",
              "win_by_runs                     146\n",
              "win_by_wickets                    0\n",
              "player_of_match         LMP Simmons\n",
              "venue              Feroz Shah Kotla\n",
              "umpire1                 Nitin Menon\n",
              "umpire2                   CK Nandan\n",
              "umpire3                         NaN\n",
              "Name: 43, dtype: object"
            ]
          },
          "metadata": {
            "tags": []
          },
          "execution_count": 14
        }
      ]
    },
    {
      "cell_type": "markdown",
      "metadata": {
        "id": "9le5mRzE72E1"
      },
      "source": [
        "## The IPL team which won by max wickets"
      ]
    },
    {
      "cell_type": "code",
      "metadata": {
        "colab": {
          "base_uri": "https://localhost:8080/"
        },
        "id": "T0YJ-K5-6jYa",
        "outputId": "a43b697e-3445-4dcb-82f8-8d61fcd4a347"
      },
      "source": [
        "data.iloc[data['win_by_wickets'].idxmax()]"
      ],
      "execution_count": 15,
      "outputs": [
        {
          "output_type": "execute_result",
          "data": {
            "text/plain": [
              "id                                                      3\n",
              "Season                                           IPL-2017\n",
              "city                                               Rajkot\n",
              "date                                           07-04-2017\n",
              "team1                                       Gujarat Lions\n",
              "team2                               Kolkata Knight Riders\n",
              "toss_winner                         Kolkata Knight Riders\n",
              "toss_decision                                       field\n",
              "result                                             normal\n",
              "dl_applied                                              0\n",
              "winner                              Kolkata Knight Riders\n",
              "win_by_runs                                             0\n",
              "win_by_wickets                                         10\n",
              "player_of_match                                   CA Lynn\n",
              "venue              Saurashtra Cricket Association Stadium\n",
              "umpire1                                       Nitin Menon\n",
              "umpire2                                         CK Nandan\n",
              "umpire3                                               NaN\n",
              "Name: 2, dtype: object"
            ]
          },
          "metadata": {
            "tags": []
          },
          "execution_count": 15
        }
      ]
    },
    {
      "cell_type": "code",
      "metadata": {
        "colab": {
          "base_uri": "https://localhost:8080/",
          "height": 240
        },
        "id": "9YMf_6qS8E2U",
        "outputId": "dfbd9d40-2b2a-45cb-a4c4-1f82e49302f9"
      },
      "source": [
        "dim=(25,8)\n",
        "fig,ax =plt.subplots(figsize=dim)\n",
        "sns.countplot(x=\"Season\",ax=ax,data=data)\n",
        "plt.show()"
      ],
      "execution_count": 16,
      "outputs": [
        {
          "output_type": "display_data",
          "data": {
            "image/png": "[encoded data removed]",
            "text/plain": [
              "<Figure size 1800x576 with 1 Axes>"
            ]
          },
          "metadata": {
            "tags": [],
            "needs_background": "light"
          }
        }
      ]
    },
    {
      "cell_type": "markdown",
      "metadata": {
        "id": "y4QKbPiyU9cl"
      },
      "source": [
        "## Most Successful Team (MOST WINS)"
      ]
    },
    {
      "cell_type": "code",
      "metadata": {
        "colab": {
          "base_uri": "https://localhost:8080/",
          "height": 296
        },
        "id": "didR8Mfw8nX6",
        "outputId": "0bba543f-ee5e-47d0-c026-43b6917d196d"
      },
      "source": [
        "MSuccess=data.winner.value_counts()\n",
        "sns.barplot(y=MSuccess.index, x=MSuccess)"
      ],
      "execution_count": 17,
      "outputs": [
        {
          "output_type": "execute_result",
          "data": {
            "text/plain": [
              "<matplotlib.axes._subplots.AxesSubplot at 0x7ff1780cf110>"
            ]
          },
          "metadata": {
            "tags": []
          },
          "execution_count": 17
        },
        {
          "output_type": "display_data",
          "data": {
            "image/png": "[encoded data removed]",
            "text/plain": [
              "<Figure size 432x288 with 1 Axes>"
            ]
          },
          "metadata": {
            "tags": [],
            "needs_background": "light"
          }
        }
      ]
    },
    {
      "cell_type": "markdown",
      "metadata": {
        "id": "yoKeTGmiV94E"
      },
      "source": [
        "## Probability of Winning a Match after winning the toss"
      ]
    },
    {
      "cell_type": "code",
      "metadata": {
        "colab": {
          "base_uri": "https://localhost:8080/"
        },
        "id": "Bi_ejsEaT8wg",
        "outputId": "03ae647d-9a80-4851-96b8-0394a42410fb"
      },
      "source": [
        "PoW=data['toss_winner']==data['winner']\n",
        "PoW.groupby(PoW).size()"
      ],
      "execution_count": 19,
      "outputs": [
        {
          "output_type": "execute_result",
          "data": {
            "text/plain": [
              "False    363\n",
              "True     393\n",
              "dtype: int64"
            ]
          },
          "metadata": {
            "tags": []
          },
          "execution_count": 19
        }
      ]
    },
    {
      "cell_type": "code",
      "metadata": {
        "colab": {
          "base_uri": "https://localhost:8080/",
          "height": 335
        },
        "id": "CGVdSrnAX6R8",
        "outputId": "e6fea8d3-df0d-4c2c-9646-7fc91ab8c57f"
      },
      "source": [
        "sns.countplot(PoW)"
      ],
      "execution_count": 20,
      "outputs": [
        {
          "output_type": "stream",
          "text": [
            "/usr/local/lib/python3.7/dist-packages/seaborn/_decorators.py:43: FutureWarning: Pass the following variable as a keyword arg: x. From version 0.12, the only valid positional argument will be `data`, and passing other arguments without an explicit keyword will result in an error or misinterpretation.\n",
            "  FutureWarning\n"
          ],
          "name": "stderr"
        },
        {
          "output_type": "execute_result",
          "data": {
            "text/plain": [
              "<matplotlib.axes._subplots.AxesSubplot at 0x7ff17393ff90>"
            ]
          },
          "metadata": {
            "tags": []
          },
          "execution_count": 20
        },
        {
          "output_type": "display_data",
          "data": {
            "image/png": "[encoded data removed]",
            "text/plain": [
              "<Figure size 432x288 with 1 Axes>"
            ]
          },
          "metadata": {
            "tags": [],
            "needs_background": "light"
          }
        }
      ]
    },
    {
      "cell_type": "code",
      "metadata": {
        "id": "NDQVEOXkZ_5h"
      },
      "source": [
        "pd.set_option('max_rows',10000)\n",
        "pd.set_option('max_colwidth',300)"
      ],
      "execution_count": 25,
      "outputs": []
    },
    {
      "cell_type": "markdown",
      "metadata": {
        "id": "1UT498CPZ_OK"
      },
      "source": [
        "# No.of wins per team grouped by Season"
      ]
    },
    {
      "cell_type": "code",
      "metadata": {
        "colab": {
          "base_uri": "https://localhost:8080/"
        },
        "id": "gtBI6cJlYVMT",
        "outputId": "bb8d49f0-1137-4e4b-bf72-75441815709b"
      },
      "source": [
        "data.groupby('Season')['winner'].value_counts()"
      ],
      "execution_count": 26,
      "outputs": [
        {
          "output_type": "execute_result",
          "data": {
            "text/plain": [
              "Season    winner                     \n",
              "IPL-2008  Rajasthan Royals               13\n",
              "          Kings XI Punjab                10\n",
              "          Chennai Super Kings             9\n",
              "          Delhi Daredevils                7\n",
              "          Mumbai Indians                  7\n",
              "          Kolkata Knight Riders           6\n",
              "          Royal Challengers Bangalore     4\n",
              "          Deccan Chargers                 2\n",
              "IPL-2009  Delhi Daredevils               10\n",
              "          Deccan Chargers                 9\n",
              "          Royal Challengers Bangalore     9\n",
              "          Chennai Super Kings             8\n",
              "          Kings XI Punjab                 7\n",
              "          Rajasthan Royals                6\n",
              "          Mumbai Indians                  5\n",
              "          Kolkata Knight Riders           3\n",
              "IPL-2010  Mumbai Indians                 11\n",
              "          Chennai Super Kings             9\n",
              "          Deccan Chargers                 8\n",
              "          Royal Challengers Bangalore     8\n",
              "          Delhi Daredevils                7\n",
              "          Kolkata Knight Riders           7\n",
              "          Rajasthan Royals                6\n",
              "          Kings XI Punjab                 4\n",
              "IPL-2011  Chennai Super Kings            11\n",
              "          Mumbai Indians                 10\n",
              "          Royal Challengers Bangalore    10\n",
              "          Kolkata Knight Riders           8\n",
              "          Kings XI Punjab                 7\n",
              "          Deccan Chargers                 6\n",
              "          Kochi Tuskers Kerala            6\n",
              "          Rajasthan Royals                6\n",
              "          Delhi Daredevils                4\n",
              "          Pune Warriors                   4\n",
              "IPL-2012  Kolkata Knight Riders          12\n",
              "          Delhi Daredevils               11\n",
              "          Chennai Super Kings            10\n",
              "          Mumbai Indians                 10\n",
              "          Kings XI Punjab                 8\n",
              "          Royal Challengers Bangalore     8\n",
              "          Rajasthan Royals                7\n",
              "          Deccan Chargers                 4\n",
              "          Pune Warriors                   4\n",
              "IPL-2013  Mumbai Indians                 13\n",
              "          Chennai Super Kings            12\n",
              "          Rajasthan Royals               11\n",
              "          Sunrisers Hyderabad            10\n",
              "          Royal Challengers Bangalore     9\n",
              "          Kings XI Punjab                 8\n",
              "          Kolkata Knight Riders           6\n",
              "          Pune Warriors                   4\n",
              "          Delhi Daredevils                3\n",
              "IPL-2014  Kings XI Punjab                12\n",
              "          Kolkata Knight Riders          11\n",
              "          Chennai Super Kings            10\n",
              "          Mumbai Indians                  7\n",
              "          Rajasthan Royals                7\n",
              "          Sunrisers Hyderabad             6\n",
              "          Royal Challengers Bangalore     5\n",
              "          Delhi Daredevils                2\n",
              "IPL-2015  Chennai Super Kings            10\n",
              "          Mumbai Indians                 10\n",
              "          Royal Challengers Bangalore     8\n",
              "          Kolkata Knight Riders           7\n",
              "          Rajasthan Royals                7\n",
              "          Sunrisers Hyderabad             7\n",
              "          Delhi Daredevils                5\n",
              "          Kings XI Punjab                 3\n",
              "IPL-2016  Sunrisers Hyderabad            11\n",
              "          Gujarat Lions                   9\n",
              "          Royal Challengers Bangalore     9\n",
              "          Kolkata Knight Riders           8\n",
              "          Delhi Daredevils                7\n",
              "          Mumbai Indians                  7\n",
              "          Rising Pune Supergiants         5\n",
              "          Kings XI Punjab                 4\n",
              "IPL-2017  Mumbai Indians                 12\n",
              "          Rising Pune Supergiant         10\n",
              "          Kolkata Knight Riders           9\n",
              "          Sunrisers Hyderabad             8\n",
              "          Kings XI Punjab                 7\n",
              "          Delhi Daredevils                6\n",
              "          Gujarat Lions                   4\n",
              "          Royal Challengers Bangalore     3\n",
              "IPL-2018  Chennai Super Kings            11\n",
              "          Sunrisers Hyderabad            10\n",
              "          Kolkata Knight Riders           9\n",
              "          Rajasthan Royals                7\n",
              "          Kings XI Punjab                 6\n",
              "          Mumbai Indians                  6\n",
              "          Royal Challengers Bangalore     6\n",
              "          Delhi Daredevils                5\n",
              "IPL-2019  Mumbai Indians                 11\n",
              "          Chennai Super Kings            10\n",
              "          Delhi Capitals                 10\n",
              "          Kings XI Punjab                 6\n",
              "          Kolkata Knight Riders           6\n",
              "          Sunrisers Hyderabad             6\n",
              "          Rajasthan Royals                5\n",
              "          Royal Challengers Bangalore     5\n",
              "Name: winner, dtype: int64"
            ]
          },
          "metadata": {
            "tags": []
          },
          "execution_count": 26
        }
      ]
    },
    {
      "cell_type": "code",
      "metadata": {
        "colab": {
          "base_uri": "https://localhost:8080/"
        },
        "id": "9NuQXrbOZZ0Z",
        "outputId": "24110e07-e589-4429-b860-0bf76d766bbc"
      },
      "source": [
        "data1=data['toss_decision'].value_counts()\n",
        "data1"
      ],
      "execution_count": 30,
      "outputs": [
        {
          "output_type": "execute_result",
          "data": {
            "text/plain": [
              "field    463\n",
              "bat      293\n",
              "Name: toss_decision, dtype: int64"
            ]
          },
          "metadata": {
            "tags": []
          },
          "execution_count": 30
        }
      ]
    },
    {
      "cell_type": "code",
      "metadata": {
        "colab": {
          "base_uri": "https://localhost:8080/",
          "height": 350
        },
        "id": "QaNQhyazbEqz",
        "outputId": "d8a3f4e7-01ce-4e22-f458-c65ed9beada2"
      },
      "source": [
        "sns.countplot(data1)"
      ],
      "execution_count": 29,
      "outputs": [
        {
          "output_type": "stream",
          "text": [
            "/usr/local/lib/python3.7/dist-packages/seaborn/_decorators.py:43: FutureWarning: Pass the following variable as a keyword arg: x. From version 0.12, the only valid positional argument will be `data`, and passing other arguments without an explicit keyword will result in an error or misinterpretation.\n",
            "  FutureWarning\n"
          ],
          "name": "stderr"
        },
        {
          "output_type": "execute_result",
          "data": {
            "text/plain": [
              "<matplotlib.axes._subplots.AxesSubplot at 0x7ff1733aacd0>"
            ]
          },
          "metadata": {
            "tags": []
          },
          "execution_count": 29
        },
        {
          "output_type": "display_data",
          "data": {
            "image/png": "[encoded data removed]",
            "text/plain": [
              "<Figure size 432x288 with 1 Axes>"
            ]
          },
          "metadata": {
            "tags": [],
            "needs_background": "light"
          }
        }
      ]
    },
    {
      "cell_type": "markdown",
      "metadata": {
        "id": "xyjNx1GDcn2-"
      },
      "source": [
        "# Player of the Match\n"
      ]
    },
    {
      "cell_type": "code",
      "metadata": {
        "colab": {
          "base_uri": "https://localhost:8080/"
        },
        "id": "iypJ0xiFcDXU",
        "outputId": "8ef91901-ffc6-4dd2-c512-42a793151ede"
      },
      "source": [
        "data['player_of_match'].value_counts()"
      ],
      "execution_count": 31,
      "outputs": [
        {
          "output_type": "execute_result",
          "data": {
            "text/plain": [
              "CH Gayle             21\n",
              "AB de Villiers       20\n",
              "RG Sharma            17\n",
              "MS Dhoni             17\n",
              "DA Warner            17\n",
              "YK Pathan            16\n",
              "SR Watson            15\n",
              "SK Raina             14\n",
              "G Gambhir            13\n",
              "AM Rahane            12\n",
              "V Kohli              12\n",
              "MEK Hussey           12\n",
              "V Sehwag             11\n",
              "A Mishra             11\n",
              "AD Russell           11\n",
              "DR Smith             11\n",
              "KA Pollard           10\n",
              "JH Kallis            10\n",
              "SP Narine             9\n",
              "AT Rayudu             9\n",
              "SE Marsh              9\n",
              "RA Jadeja             8\n",
              "SR Tendulkar          8\n",
              "Harbhajan Singh       8\n",
              "UT Yadav              8\n",
              "AC Gilchrist          7\n",
              "Rashid Khan           7\n",
              "RV Uthappa            7\n",
              "BJ Hodge              6\n",
              "S Dhawan              6\n",
              "A Nehra               6\n",
              "M Vijay               6\n",
              "HH Pandya             6\n",
              "RR Pant               6\n",
              "SL Malinga            6\n",
              "SC Ganguly            5\n",
              "KC Sangakkara         5\n",
              "GJ Maxwell            5\n",
              "Sandeep Sharma        5\n",
              "SV Samson             5\n",
              "DPMD Jayawardene      5\n",
              "DW Steyn              5\n",
              "JC Buttler            5\n",
              "BB McCullum           5\n",
              "Yuvraj Singh          5\n",
              "JP Faulkner           5\n",
              "SPD Smith             5\n",
              "JJ Bumrah             5\n",
              "JD Unadkat            5\n",
              "B Kumar               5\n",
              "AJ Finch              5\n",
              "PA Patel              5\n",
              "KL Rahul              4\n",
              "AR Patel              4\n",
              "KD Karthik            4\n",
              "MK Pandey             4\n",
              "ML Hayden             4\n",
              "SS Iyer               4\n",
              "NM Coulter-Nile       4\n",
              "JP Duminy             4\n",
              "KH Pandya             4\n",
              "N Rana                4\n",
              "F du Plessis          4\n",
              "CA Lynn               4\n",
              "SK Warne              4\n",
              "BA Stokes             3\n",
              "L Balaji              3\n",
              "DA Miller             3\n",
              "LMP Simmons           3\n",
              "CJ Anderson           3\n",
              "KP Pietersen          3\n",
              "WP Saha               3\n",
              "A Symonds             3\n",
              "M Vohra               3\n",
              "R Vinay Kumar         3\n",
              "MK Tiwary             3\n",
              "LRPL Taylor           3\n",
              "PP Chawla             3\n",
              "KS Williamson         3\n",
              "Mandeep Singh         3\n",
              "KK Nair               3\n",
              "DJ Bravo              3\n",
              "A Kumble              3\n",
              "SM Pollock            2\n",
              "M Ntini               2\n",
              "MA Agarwal            2\n",
              "MM Patel              2\n",
              "P Negi                2\n",
              "MP Stoinis            2\n",
              "MM Sharma             2\n",
              "R Ashwin              2\n",
              "GH Vihari             2\n",
              "DE Bollinger          2\n",
              "PC Valthaty           2\n",
              "AS Rajpoot            2\n",
              "JA Morkel             2\n",
              "Azhar Mahmood         2\n",
              "BW Hilfenhaus         2\n",
              "HV Patel              2\n",
              "R Dravid              2\n",
              "J Bairstow            2\n",
              "MC Henriques          2\n",
              "ST Jayasuriya         2\n",
              "AS Yadav              2\n",
              "M Muralitharan        2\n",
              "MJ McClenaghan        2\n",
              "R Sharma              2\n",
              "VR Aaron              2\n",
              "CH Morris             2\n",
              "Shakib Al Hasan       2\n",
              "MG Johnson            2\n",
              "PV Tambe              2\n",
              "S Gopal               2\n",
              "DJ Hussey             2\n",
              "GC Smith              2\n",
              "SK Trivedi            2\n",
              "B Lee                 2\n",
              "Iqbal Abdulla         2\n",
              "KM Jadhav             2\n",
              "Sohail Tanvir         2\n",
              "Harmeet Singh         2\n",
              "AJ Tye                2\n",
              "AB Dinda              2\n",
              "M Morkel              2\n",
              "P Kumar               2\n",
              "I Sharma              2\n",
              "MV Boucher            2\n",
              "IK Pathan             2\n",
              "HM Amla               2\n",
              "Mustafizur Rahman     1\n",
              "Shoaib Akhtar         1\n",
              "SP Goswami            1\n",
              "TA Boult              1\n",
              "Z Khan                1\n",
              "SA Asnodkar           1\n",
              "LH Ferguson           1\n",
              "Mohammed Siraj        1\n",
              "CR Brathwaite         1\n",
              "RE Levi               1\n",
              "LR Shukla             1\n",
              "P Parameswaran        1\n",
              "DL Chahar             1\n",
              "A Singh               1\n",
              "K Rabada              1\n",
              "SB Jakati             1\n",
              "SW Billings           1\n",
              "Kuldeep Yadav         1\n",
              "MN Samuels            1\n",
              "S Nadeem              1\n",
              "S Gill                1\n",
              "MJ Lumb               1\n",
              "Washington Sundar     1\n",
              "S Curran              1\n",
              "AP Tare               1\n",
              "MS Bisla              1\n",
              "J Archer              1\n",
              "JJ Roy                1\n",
              "WPUJC Vaas            1\n",
              "MA Starc              1\n",
              "PP Ojha               1\n",
              "KV Sharma             1\n",
              "RS Bopara             1\n",
              "P Shaw                1\n",
              "RP Singh              1\n",
              "Ishan Kishan          1\n",
              "M Kartik              1\n",
              "EJG Morgan            1\n",
              "Q de Kock             1\n",
              "NV Ojha               1\n",
              "RA Tripathi           1\n",
              "AD Mathews            1\n",
              "AD Mascarenhas        1\n",
              "KMDN Kulasekara       1\n",
              "JD Ryder              1\n",
              "MF Maharoof           1\n",
              "RJ Harris             1\n",
              "R McLaren             1\n",
              "CRD Fernando          1\n",
              "Mohammed Shami        1\n",
              "BCJ Cutting           1\n",
              "K Paul                1\n",
              "DJG Sammy             1\n",
              "JDP Oram              1\n",
              "SA Yadav              1\n",
              "LJ Wright             1\n",
              "Umar Gul              1\n",
              "BA Bhatt              1\n",
              "TM Dilshan            1\n",
              "AC Voges              1\n",
              "MD Mishra             1\n",
              "Imran Tahir           1\n",
              "DJ Hooda              1\n",
              "KK Cooper             1\n",
              "S Badrinath           1\n",
              "JEC Franklin          1\n",
              "HH Gibbs              1\n",
              "GJ Bailey             1\n",
              "M Ur Rahman           1\n",
              "K Ahmed               1\n",
              "MS Gony               1\n",
              "A Chandila            1\n",
              "GD McGrath            1\n",
              "R Bhatia              1\n",
              "H Gurney              1\n",
              "MR Marsh              1\n",
              "SM Katich             1\n",
              "DP Nannes             1\n",
              "SB Wagh               1\n",
              "AA Jhunjhunwala       1\n",
              "S Hetmyer             1\n",
              "B Stanlake            1\n",
              "A Zampa               1\n",
              "J Botha               1\n",
              "DL Vettori            1\n",
              "S Sreesanth           1\n",
              "S Anirudha            1\n",
              "J Theron              1\n",
              "TL Suman              1\n",
              "L Ngidi               1\n",
              "S Sohal               1\n",
              "CL White              1\n",
              "PD Collingwood        1\n",
              "YS Chahal             1\n",
              "A Joseph              1\n",
              "S Aravind             1\n",
              "TG Southee            1\n",
              "Name: player_of_match, dtype: int64"
            ]
          },
          "metadata": {
            "tags": []
          },
          "execution_count": 31
        }
      ]
    },
    {
      "cell_type": "markdown",
      "metadata": {
        "id": "jXRqQ5J5dJ8u"
      },
      "source": [
        "## City in which most Matches were played"
      ]
    },
    {
      "cell_type": "code",
      "metadata": {
        "colab": {
          "base_uri": "https://localhost:8080/"
        },
        "id": "I4NMCqecccT4",
        "outputId": "af5e7edc-52aa-4a4a-ae10-7aa48a1396df"
      },
      "source": [
        "data['city'].value_counts()"
      ],
      "execution_count": 32,
      "outputs": [
        {
          "output_type": "execute_result",
          "data": {
            "text/plain": [
              "Mumbai            101\n",
              "Kolkata            77\n",
              "Delhi              74\n",
              "Bangalore          66\n",
              "Hyderabad          64\n",
              "Chennai            57\n",
              "Jaipur             47\n",
              "Chandigarh         46\n",
              "Pune               38\n",
              "Durban             15\n",
              "Bengaluru          14\n",
              "Visakhapatnam      13\n",
              "Centurion          12\n",
              "Ahmedabad          12\n",
              "Rajkot             10\n",
              "Mohali             10\n",
              "Indore              9\n",
              "Dharamsala          9\n",
              "Johannesburg        8\n",
              "Cuttack             7\n",
              "Abu Dhabi           7\n",
              "Port Elizabeth      7\n",
              "Cape Town           7\n",
              "Ranchi              7\n",
              "Sharjah             6\n",
              "Raipur              6\n",
              "Kochi               5\n",
              "Kanpur              4\n",
              "East London         3\n",
              "Kimberley           3\n",
              "Nagpur              3\n",
              "Bloemfontein        2\n",
              "Name: city, dtype: int64"
            ]
          },
          "metadata": {
            "tags": []
          },
          "execution_count": 32
        }
      ]
    },
    {
      "cell_type": "code",
      "metadata": {
        "id": "i-CSHrjpdH8c"
      },
      "source": [
        ""
      ],
      "execution_count": null,
      "outputs": []
    }
  ]
}